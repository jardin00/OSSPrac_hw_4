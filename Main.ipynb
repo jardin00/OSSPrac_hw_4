{
 "cells": [
  {
   "cell_type": "code",
   "execution_count": 1,
   "id": "c656c6ee",
   "metadata": {},
   "outputs": [
    {
     "name": "stdout",
     "output_type": "stream",
     "text": [
      "이름을 입력하세요: 박정원\n",
      "학번을 입력하세요: 2020112485\n",
      "\n",
      "<출력>\n",
      "이름:  박정원\n",
      "학번:  2020112485\n"
     ]
    }
   ],
   "source": [
    "name = input('이름을 입력하세요: ')\n",
    "id = input('학번을 입력하세요: ')\n",
    "\n",
    "print()\n",
    "print(\"<출력>\")\n",
    "print(\"이름: \",name)\n",
    "print(\"학번: \",id)"
   ]
  }
 ],
 "metadata": {
  "kernelspec": {
   "display_name": "Python 3 (ipykernel)",
   "language": "python",
   "name": "python3"
  },
  "language_info": {
   "codemirror_mode": {
    "name": "ipython",
    "version": 3
   },
   "file_extension": ".py",
   "mimetype": "text/x-python",
   "name": "python",
   "nbconvert_exporter": "python",
   "pygments_lexer": "ipython3",
   "version": "3.9.12"
  }
 },
 "nbformat": 4,
 "nbformat_minor": 5
}
